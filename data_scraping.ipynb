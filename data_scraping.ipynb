{
 "cells": [
  {
   "cell_type": "code",
   "execution_count": 1,
   "id": "induced-internship",
   "metadata": {},
   "outputs": [
    {
     "name": "stderr",
     "output_type": "stream",
     "text": [
      "/Users/trent.woodbury/Code/venvs/f1/lib/python3.9/site-packages/ipykernel/ipkernel.py:283: DeprecationWarning: `should_run_async` will not call `transform_cell` automatically in the future. Please pass the result to `transformed_cell` argument and any exception that happen during thetransform in `preprocessing_exc_tuple` in IPython 7.17 and above.\n",
      "  and should_run_async(code)\n"
     ]
    }
   ],
   "source": [
    "from bs4 import BeautifulSoup\n",
    "import requests\n",
    "import pandas as pd\n",
    "import wikipedia"
   ]
  },
  {
   "cell_type": "markdown",
   "id": "19a693ca",
   "metadata": {},
   "source": [
    "# Constants"
   ]
  },
  {
   "cell_type": "code",
   "execution_count": 31,
   "id": "0e91c2cd",
   "metadata": {},
   "outputs": [],
   "source": [
    "MODIFIER_SCORE_MAPPINGS = {\n",
    "    'DNS': 0,\n",
    "    'NC': 0,\n",
    "    'Ret': 0,\n",
    "    'DNQ': -5,\n",
    "    'DNPQ': -5,\n",
    "    'DSQ': -10,\n",
    "    'C': 0,\n",
    "    'DNP': 0,\n",
    "    'EX': 0,\n",
    "    'DNA': 0,\n",
    "    'WD': 0,\n",
    "    'P': 10,\n",
    "    'F': 5,\n",
    "    'PF': 15,\n",
    "}\n",
    "\n",
    "POSITION_POINT_MAPPING = {\n",
    "    '1': 25,\n",
    "    '2': 18,\n",
    "    '3': 15,\n",
    "    '4': 12,\n",
    "    '5': 10,\n",
    "    '6': 8,\n",
    "    '7': 6,\n",
    "    '8': 4,\n",
    "    '9': 2,\n",
    "    '10': 1\n",
    "}"
   ]
  },
  {
   "cell_type": "code",
   "execution_count": 71,
   "id": "specialized-diamond",
   "metadata": {},
   "outputs": [
    {
     "name": "stderr",
     "output_type": "stream",
     "text": [
      "/Users/trent.woodbury/Code/venvs/f1/lib/python3.9/site-packages/ipykernel/ipkernel.py:283: DeprecationWarning: `should_run_async` will not call `transform_cell` automatically in the future. Please pass the result to `transformed_cell` argument and any exception that happen during thetransform in `preprocessing_exc_tuple` in IPython 7.17 and above.\n",
      "  and should_run_async(code)\n"
     ]
    }
   ],
   "source": [
    "def parse_table(raw_table, scores_or_teams=\"scores\"):\n",
    "    \"\"\"\n",
    "    Parses HTML table into a reasonable/interpretable\n",
    "    pandas dataframe.\n",
    "    \"\"\"\n",
    "    table_rows = raw_table.find_all('tr')\n",
    "\n",
    "    l = []\n",
    "    for tr in table_rows:\n",
    "        td = tr.find_all('td')\n",
    "        row = [tr.text for tr in td]\n",
    "        l.append(row)\n",
    "    if scores_or_teams == \"scores\":\n",
    "        # header's first col is treated as index, so we skip that\n",
    "        header = [th.text.rstrip() for th in table_rows[0].find_all('th')][1:]\n",
    "    else:\n",
    "        header = ['Entrant', 'Chassis', 'Power unit', 'No.', 'Driver name', 'Rounds']\n",
    "\n",
    "    parsed_df = pd.DataFrame(l, columns=header)\n",
    "    return parsed_df\n",
    "\n",
    "\n",
    "def map_outcome_to_score(race_outcome: str) -> int:\n",
    "    '''\n",
    "    Crunches Fantasy points from race outcome.\n",
    "    INPUT\n",
    "        race_outcome: representation of race outcome (e.g. \"4P\")\n",
    "    OUTPUT\n",
    "        race_score: score for racer for race\n",
    "    '''\n",
    "    position = \"\"\n",
    "    modifiers = \"\"\n",
    "    for char in race_outcome:\n",
    "        if char.isdigit():\n",
    "            position += char\n",
    "        else:\n",
    "            modifiers += char\n",
    "            \n",
    "    # This just ignores modifiers it doesn't have handling for\n",
    "    modifier_score = MODIFIER_SCORE_MAPPINGS.get(modifiers, 0)\n",
    "    position_score = POSITION_POINT_MAPPING.get(str(position), 0)\n",
    "    race_score = modifier_score + position_score\n",
    "    \n",
    "    return race_score\n",
    "\n",
    "\n",
    "def score_dataframe_cleanup(dirty_df):\n",
    "    '''\n",
    "    Cleans up the text in the dataframe\n",
    "    and removes e.g. empty rows.\n",
    "    '''\n",
    "    df = dirty_df.dropna().drop('Points', axis=1)\n",
    "\n",
    "    for col in df.columns:\n",
    "        df[col] = df[col].apply(lambda x: x.replace(\"\\n\", \"\"))\n",
    "        if col != 'Driver':\n",
    "            df[col] = df[col].map(map_outcome_to_score)\n",
    "    \n",
    "    return df\n",
    "\n",
    "\n",
    "def team_dataframe_cleanup(dirty_df):\n",
    "    df = dirty_df.dropna(axis=0)\n",
    "    df = df.loc[:, [\"Driver name\", \"Entrant\"]]\n",
    "    for col in df.columns:\n",
    "        df[col] = df[col].apply(lambda x: x.replace(\"\\n\", \"\"))\n",
    "        \n",
    "    return df\n",
    "\n",
    "\n",
    "def get_teammate_mappings()\n",
    "\n",
    "def get_data_by_year(year):\n",
    "    \"\"\"\n",
    "    Pulls in the raw HTML table of F1 results from Wikipedia.\n",
    "    \"\"\"\n",
    "    wiki = wikipedia.WikipediaPage(f\"{year} Formula One World Championship\")\n",
    "    soup = BeautifulSoup(wiki.html())\n",
    "    tables = soup.find_all('table', {'class': 'wikitable'})\n",
    "    \n",
    "    raw_score_table = tables[-4]\n",
    "    raw_team_table = tables[0]\n",
    "    \n",
    "    score_table = parse_table(raw_score_table, \"scores\")\n",
    "    clean_score_df = score_dataframe_cleanup(score_table)\n",
    "    \n",
    "    team_table = parse_table(raw_team_table, \"teams\")\n",
    "    clean_team_df = team_dataframe_cleanup(team_table)\n",
    "    \n",
    "    return clean_score_df, clean_team_df"
   ]
  },
  {
   "cell_type": "code",
   "execution_count": null,
   "id": "955aacda",
   "metadata": {},
   "outputs": [],
   "source": [
    "score_df, team_df = get_data_by_year(2019)"
   ]
  },
  {
   "cell_type": "code",
   "execution_count": null,
   "id": "rapid-annotation",
   "metadata": {},
   "outputs": [],
   "source": [
    "team_df"
   ]
  },
  {
   "cell_type": "code",
   "execution_count": null,
   "id": "e7d07f8a",
   "metadata": {},
   "outputs": [],
   "source": []
  }
 ],
 "metadata": {
  "kernelspec": {
   "display_name": "f1",
   "language": "python",
   "name": "f1"
  },
  "language_info": {
   "codemirror_mode": {
    "name": "ipython",
    "version": 3
   },
   "file_extension": ".py",
   "mimetype": "text/x-python",
   "name": "python",
   "nbconvert_exporter": "python",
   "pygments_lexer": "ipython3",
   "version": "3.9.2"
  }
 },
 "nbformat": 4,
 "nbformat_minor": 5
}
